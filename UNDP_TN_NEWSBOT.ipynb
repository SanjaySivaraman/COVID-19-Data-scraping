{
  "nbformat": 4,
  "nbformat_minor": 0,
  "metadata": {
    "colab": {
      "name": "UNDP TN NEWSBOT.ipynb",
      "provenance": [],
      "collapsed_sections": [],
      "include_colab_link": true
    },
    "kernelspec": {
      "name": "python3",
      "display_name": "Python 3"
    }
  },
  "cells": [
    {
      "cell_type": "markdown",
      "metadata": {
        "id": "view-in-github",
        "colab_type": "text"
      },
      "source": [
        "<a href=\"https://colab.research.google.com/github/SanjaySivaraman/COVID-19-Data-scraping/blob/master/UNDP_TN_NEWSBOT.ipynb\" target=\"_parent\"><img src=\"https://colab.research.google.com/assets/colab-badge.svg\" alt=\"Open In Colab\"/></a>"
      ]
    },
    {
      "cell_type": "code",
      "metadata": {
        "id": "UE4uBjqtfS0p",
        "colab_type": "code",
        "colab": {}
      },
      "source": [
        "import requests as r\n",
        "import re\n",
        "from bs4 import BeautifulSoup as soup\n",
        "import time\n",
        "import pandas as pd\n",
        "database=[]"
      ],
      "execution_count": 1,
      "outputs": []
    },
    {
      "cell_type": "code",
      "metadata": {
        "id": "lPt8U6INMQQx",
        "colab_type": "code",
        "colab": {}
      },
      "source": [
        "def scrape(url):\n",
        "  LINK=[]\n",
        "  LINK.append(url)\n",
        "  regex = re.compile('.*content-body-.*')\n",
        "  CC=[regex]\n",
        "  fdata=[]\n",
        "  data=r.get(LINK[0])\n",
        "  page_data=soup(data.text,'html.parser')\n",
        "  State=page_data.find('a',{'class':'section-name'}).text\n",
        "  Header=page_data.find('h1',{'class':'title'}).text\n",
        "  dp=page_data.find('div',{'class':'ut-container'})\n",
        "  pad=dp.find_all('span',{'class':'blue-color ksl-time-stamp'})\n",
        "  if(len(pad)==2): \n",
        "    Place=pad[0].text\n",
        "    Place = Place.replace(',', '')\n",
        "    Date=pad[1].text\n",
        "  elif(len(pad)==1):\n",
        "    Place='India'\n",
        "    Date=pad[0].text\n",
        "  Content=page_data.find('div',{'id':CC[0]}).text\n",
        "  column=[Date,State,Place,Header,Content]\n",
        "  news=[]\n",
        "  for line in column:\n",
        "    news.append(line.strip().split('\\n'))\n",
        "  for k in range(0,len(news)):\n",
        "    temp=news[k][0]\n",
        "    fdata.append(temp)\n",
        "  database.append(fdata)"
      ],
      "execution_count": null,
      "outputs": []
    },
    {
      "cell_type": "code",
      "metadata": {
        "id": "jzpi5B6HfjN0",
        "colab_type": "code",
        "colab": {}
      },
      "source": [
        "#TAMILNADU\n",
        "def tn():\n",
        "  count=0\n",
        "  flag=0\n",
        "  url='https://www.thehindu.com/news/national/tamil-nadu/'\n",
        "  data=r.get(url)\n",
        "  page_data=soup(data.text,'html.parser')\n",
        "  jis=page_data.find('div',{'class':'justIn-story'})\n",
        "  jis1=jis.find('a')\n",
        "  jisurl=jis1.get('href')\n",
        "  jist=jis1.text\n",
        "  jist=jist.replace('\\n', ' ')\n",
        "  jist=jist.upper()\n",
        "  jist=jist.strip().split(' ')\n",
        "  keywords=['COVID-19','CORONAVIRUS','QUARANTINE','LOCKDOWN','CORONA','']\n",
        "  flag=0\n",
        "  for i in jist:\n",
        "    for j in keywords:\n",
        "      if(i==j and flag==0):\n",
        "        try:\n",
        "          flag=1\n",
        "          print('Calling scrape')\n",
        "          scrape(jisurl)\n",
        "        except:\n",
        "          print('ERROR\\n')\n",
        "  if(flag==0):\n",
        "    print('Not a COVID-19 News')\n",
        "                "
      ],
      "execution_count": 2,
      "outputs": []
    },
    {
      "cell_type": "code",
      "metadata": {
        "id": "Tbm4vPsK9Kys",
        "colab_type": "code",
        "colab": {
          "base_uri": "https://localhost:8080/",
          "height": 155
        },
        "outputId": "4c125192-6e05-4699-fde4-729d9db48997"
      },
      "source": [
        "call=0\n",
        "while(call<1):\n",
        "  call=call+1\n",
        "  print(\"Call no.\") \n",
        "  print(call)\n",
        "  tn()\n",
        "  time.sleep(10)\n",
        "df=pd.DataFrame(database)\n",
        "print(df)"
      ],
      "execution_count": 4,
      "outputs": [
        {
          "output_type": "stream",
          "text": [
            "Call no.\n",
            "1\n",
            "Calling scrape\n",
            "ERROR\n",
            "\n",
            "Empty DataFrame\n",
            "Columns: []\n",
            "Index: []\n"
          ],
          "name": "stdout"
        }
      ]
    },
    {
      "cell_type": "code",
      "metadata": {
        "id": "ACyR8g2NF9_0",
        "colab_type": "code",
        "colab": {}
      },
      "source": [
        ""
      ],
      "execution_count": 3,
      "outputs": []
    },
    {
      "cell_type": "code",
      "metadata": {
        "id": "4PNoE7AkaRQ2",
        "colab_type": "code",
        "colab": {}
      },
      "source": [
        ""
      ],
      "execution_count": null,
      "outputs": []
    }
  ]
}