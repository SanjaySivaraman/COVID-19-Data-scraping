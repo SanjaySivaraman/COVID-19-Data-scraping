{
  "nbformat": 4,
  "nbformat_minor": 0,
  "metadata": {
    "colab": {
      "name": "Scrapepdfs.ipynb",
      "provenance": [],
      "include_colab_link": true
    },
    "kernelspec": {
      "name": "python3",
      "display_name": "Python 3"
    }
  },
  "cells": [
    {
      "cell_type": "markdown",
      "metadata": {
        "id": "view-in-github",
        "colab_type": "text"
      },
      "source": [
        "<a href=\"https://colab.research.google.com/github/ThinktankSanjay/COVID-19-Data-scraping/blob/master/Scrapepdfs.ipynb\" target=\"_parent\"><img src=\"https://colab.research.google.com/assets/colab-badge.svg\" alt=\"Open In Colab\"/></a>"
      ]
    },
    {
      "cell_type": "code",
      "metadata": {
        "id": "ajH8NQ0tqWXZ",
        "colab_type": "code",
        "colab": {}
      },
      "source": [
        "import requests as r\n",
        "from bs4 import BeautifulSoup as soup\n",
        "url='https://www.who.int/india/emergencies/india-situation-report'\n",
        "data=r.get(url)\n",
        "page_data = soup(data.text,'html.parser')\n",
        "#print(page_data.prettify())"
      ],
      "execution_count": 0,
      "outputs": []
    },
    {
      "cell_type": "code",
      "metadata": {
        "id": "admohMixrYuf",
        "colab_type": "code",
        "outputId": "27e00da8-c257-4eff-e131-563bcc4078cd",
        "colab": {
          "base_uri": "https://localhost:8080/",
          "height": 89
        }
      },
      "source": [
        "links=page_data.find_all('div',{'class':'sf-content-block content-block'})\n",
        "n=len(links)\n",
        "link=links[0]\n",
        "link"
      ],
      "execution_count": 0,
      "outputs": [
        {
          "output_type": "execute_result",
          "data": {
            "text/plain": [
              "<div class=\"sf-content-block content-block\">\n",
              "<div><p><a href=\"https://www.who.int/docs/default-source/wrindia/situation-report/india-situation-report-10.pdf?sfvrsn=48298da5_2\" target=\"_blank\"><strong>India Situation Report - 10</strong></a><br/>Coronavirus Disease (COVID-19) <br/>5 April 2020</p><p><a href=\"https://www.who.int/docs/default-source/wrindia/situation-report/india-situation-report-9.pdf?sfvrsn=c883d0c2_2\" target=\"_blank\"><strong>India Situation Report - 9</strong></a><br/>Coronavirus Disease (COVID-19) <br/>28 March 2020</p><p><a href=\"https://www.who.int/docs/default-source/wrindia/situation-report/india-situation-report-8bc9aca340f91408b9efbedb3917565fc.pdf?sfvrsn=5e0b8a43_2\" target=\"_blank\"><strong>India Situation Report - 8</strong></a><br/>Coronavirus Disease (COVID-19) <br/>22 March 2020</p><p><a href=\"https://www.who.int/docs/default-source/wrindia/situation-report/india-situation-report-7.pdf?sfvrsn=cf4a7312_2\" target=\"_blank\"><strong>India Situation Report - 7</strong></a><br/>Coronavirus Disease (COVID-19) <br/>14 March 2020</p><p><a href=\"https://www.who.int/docs/default-source/wrindia/situation-report/india-situation-report-6606711da860b4d38b266c91265952977.pdf?sfvrsn=2f6c5c95_2\" target=\"_blank\"><strong>India Situation Report - 6</strong></a><br/>Coronavirus Disease (COVID-19) <br/>9 March 2020</p><p><a href=\"https://www.who.int/docs/default-source/wrindia/situation-report/india-situation-report-5.pdf?sfvrsn=e8e1c902_2\" target=\"_blank\"><strong>India Situation Report - 5</strong></a><br/>Coronavirus Disease (COVID-19) <br/>28 February 2020</p><p><a href=\"https://www.who.int/docs/default-source/wrindia/situation-report/india-situation-report-4fc11fed6bd464083b4ce93b26097391e.pdf?sfvrsn=d257be4b_2\" target=\"_blank\"><strong>India Situation Report - 4</strong></a><br/>Coronavirus Disease (COVID-19) <br/>21 February 2020</p><div><a href=\"https://www.who.int/docs/default-source/wrindia/situation-report/india-situation-report-3.pdf?sfvrsn=790bf1bd_2\" target=\"_blank\"><strong>India Situation Report - 3</strong></a><br/>Coronavirus Disease (COVID-19) <br/>13 February 2020</div><p><a href=\"https://www.who.int/docs/default-source/wrindia/india-situation-report-2.pdf?sfvrsn=962f294b_0\" target=\"_blank\"><strong>India Situation Report - 2</strong></a><br/>Novel Coronavirus (2019-nCoV) <br/>6 February 2020</p><p><a href=\"https://www.who.int/docs/default-source/wrindia/india-situation-report-1.pdf?sfvrsn=5ca2a672_0\" target=\"_blank\"><strong>India Situation Report - 1</strong></a><br/>Novel Coronavirus (2019-nCoV) <br/>31 January 2020</p></div>\n",
              "</div>"
            ]
          },
          "metadata": {
            "tags": []
          },
          "execution_count": 74
        }
      ]
    },
    {
      "cell_type": "code",
      "metadata": {
        "id": "5ow5cjYhsaq9",
        "colab_type": "code",
        "colab": {}
      },
      "source": [
        "li=[]\n",
        "he=[]\n",
        "for i in link.find_all('a'):\n",
        "  l=i.get('href')\n",
        "  li.append(l)\n",
        "for j in link.find_all('strong'):\n",
        "  h=j.text\n",
        "  he.append(h)\n",
        "data=[]\n",
        "he.reverse()\n",
        "li.reverse()\n",
        "data.append(li)"
      ],
      "execution_count": 0,
      "outputs": []
    },
    {
      "cell_type": "code",
      "metadata": {
        "id": "_CldTj85yRm9",
        "colab_type": "code",
        "outputId": "679e4b34-06ca-402e-b6b7-bc853a21e0be",
        "colab": {
          "base_uri": "https://localhost:8080/",
          "height": 134
        }
      },
      "source": [
        "import pandas as pd\n",
        "df=pd.DataFrame(data)\n",
        "df.columns=he\n",
        "df"
      ],
      "execution_count": 0,
      "outputs": [
        {
          "output_type": "execute_result",
          "data": {
            "text/html": [
              "<div>\n",
              "<style scoped>\n",
              "    .dataframe tbody tr th:only-of-type {\n",
              "        vertical-align: middle;\n",
              "    }\n",
              "\n",
              "    .dataframe tbody tr th {\n",
              "        vertical-align: top;\n",
              "    }\n",
              "\n",
              "    .dataframe thead th {\n",
              "        text-align: right;\n",
              "    }\n",
              "</style>\n",
              "<table border=\"1\" class=\"dataframe\">\n",
              "  <thead>\n",
              "    <tr style=\"text-align: right;\">\n",
              "      <th></th>\n",
              "      <th>India Situation Report - 1</th>\n",
              "      <th>India Situation Report - 2</th>\n",
              "      <th>India Situation Report - 3</th>\n",
              "      <th>India Situation Report - 4</th>\n",
              "      <th>India Situation Report - 5</th>\n",
              "      <th>India Situation Report - 6</th>\n",
              "      <th>India Situation Report - 7</th>\n",
              "      <th>India Situation Report - 8</th>\n",
              "      <th>India Situation Report - 9</th>\n",
              "      <th>India Situation Report - 10</th>\n",
              "    </tr>\n",
              "  </thead>\n",
              "  <tbody>\n",
              "    <tr>\n",
              "      <th>0</th>\n",
              "      <td>https://www.who.int/docs/default-source/wrindi...</td>\n",
              "      <td>https://www.who.int/docs/default-source/wrindi...</td>\n",
              "      <td>https://www.who.int/docs/default-source/wrindi...</td>\n",
              "      <td>https://www.who.int/docs/default-source/wrindi...</td>\n",
              "      <td>https://www.who.int/docs/default-source/wrindi...</td>\n",
              "      <td>https://www.who.int/docs/default-source/wrindi...</td>\n",
              "      <td>https://www.who.int/docs/default-source/wrindi...</td>\n",
              "      <td>https://www.who.int/docs/default-source/wrindi...</td>\n",
              "      <td>https://www.who.int/docs/default-source/wrindi...</td>\n",
              "      <td>https://www.who.int/docs/default-source/wrindi...</td>\n",
              "    </tr>\n",
              "  </tbody>\n",
              "</table>\n",
              "</div>"
            ],
            "text/plain": [
              "                          India Situation Report - 1  ...                        India Situation Report - 10\n",
              "0  https://www.who.int/docs/default-source/wrindi...  ...  https://www.who.int/docs/default-source/wrindi...\n",
              "\n",
              "[1 rows x 10 columns]"
            ]
          },
          "metadata": {
            "tags": []
          },
          "execution_count": 76
        }
      ]
    }
  ]
}