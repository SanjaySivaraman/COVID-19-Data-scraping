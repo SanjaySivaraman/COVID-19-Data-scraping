{
  "nbformat": 4,
  "nbformat_minor": 0,
  "metadata": {
    "colab": {
      "name": "NEWSBOT.ipynb",
      "provenance": [],
      "collapsed_sections": [],
      "include_colab_link": true
    },
    "kernelspec": {
      "name": "python3",
      "display_name": "Python 3"
    }
  },
  "cells": [
    {
      "cell_type": "markdown",
      "metadata": {
        "id": "view-in-github",
        "colab_type": "text"
      },
      "source": [
        "<a href=\"https://colab.research.google.com/github/ThinktankSanjay/COVID-19-Data-scraping/blob/master/NEWSBOT.ipynb\" target=\"_parent\"><img src=\"https://colab.research.google.com/assets/colab-badge.svg\" alt=\"Open In Colab\"/></a>"
      ]
    },
    {
      "cell_type": "code",
      "metadata": {
        "id": "UE4uBjqtfS0p",
        "colab_type": "code",
        "colab": {}
      },
      "source": [
        "import requests as r\n",
        "import re\n",
        "from bs4 import BeautifulSoup as soup\n",
        "import time\n",
        "import pandas as pd\n",
        "database=[]\n",
        "preurl='sampleurl'"
      ],
      "execution_count": 0,
      "outputs": []
    },
    {
      "cell_type": "code",
      "metadata": {
        "id": "lPt8U6INMQQx",
        "colab_type": "code",
        "colab": {}
      },
      "source": [
        "def scrape(url,sname):\n",
        "  StateName=sname\n",
        "  LINK=[]\n",
        "  LINK.append(url)\n",
        "  regex = re.compile('.*content-body-.*')\n",
        "  CC=[regex]\n",
        "  fdata=[]\n",
        "  data=r.get(LINK[0])\n",
        "  page_data=soup(data.text,'html.parser')\n",
        "  Sectional=page_data.find('a',{'class':'section-name'}).text\n",
        "  Header=page_data.find('h1',{'class':'title'}).text\n",
        "  dp=page_data.find('div',{'class':'ut-container'})\n",
        "  pad=dp.find_all('span',{'class':'blue-color ksl-time-stamp'})\n",
        "  if(len(pad)==2): \n",
        "    Place=pad[0].text\n",
        "    Place = Place.replace(',', '')\n",
        "    Date=pad[1].text\n",
        "  elif(len(pad)==1):\n",
        "    Place='India'\n",
        "    Date=pad[0].text\n",
        "  Content=page_data.find('div',{'id':CC[0]}).text\n",
        "  column=[StateName,Date,Sectional,Place,Header,Content]\n",
        "  news=[]\n",
        "  for line in column:\n",
        "    news.append(line.strip().split('\\n'))\n",
        "  for k in range(0,len(news)):\n",
        "    temp=news[k][0]\n",
        "    fdata.append(temp)\n",
        "  database.append(fdata)"
      ],
      "execution_count": 0,
      "outputs": []
    },
    {
      "cell_type": "code",
      "metadata": {
        "id": "jzpi5B6HfjN0",
        "colab_type": "code",
        "colab": {}
      },
      "source": [
        "#TAMILNADU\n",
        "def state():\n",
        "  statenamelist=['andhra-pradesh','karnataka','kerala','tamil-nadu','telangana','other-states']\n",
        "  for statename in statenamelist:\n",
        "    url='https://www.thehindu.com/news/national/'+ statename +'/'\n",
        "    print(url)\n",
        "    data=r.get(url)\n",
        "    page_data=soup(data.text,'html.parser')\n",
        "    jis=page_data.find('div',{'class':'justIn-story'})\n",
        "    jis1=jis.find('a')\n",
        "    jisurl=jis1.get('href')\n",
        "    jist=jis1.text\n",
        "    jist=jist.replace('\\n', ' ')\n",
        "    jist=jist.upper()\n",
        "    jist=jist.strip().split(' ')\n",
        "    #print(\"URL is \"+ jisurl+'\\n')\n",
        "    #print(\"List of text:\")\n",
        "    #print(jist)\n",
        "    keywords=['COVID-19','CORONAVIRUS','QUARANTINE','LOCKDOWN','CORONA']\n",
        "    flag=0\n",
        "    for i in jist:\n",
        "      for j in keywords:\n",
        "        if(i==j and flag==0):\n",
        "          flag=1\n",
        "          try:\n",
        "            scrape(jisurl,statename)\n",
        "          except:\n",
        "            print('ERROR\\n')\n",
        "    if(flag==0):\n",
        "      print('Not a COVID-19 News')\n",
        "                "
      ],
      "execution_count": 0,
      "outputs": []
    },
    {
      "cell_type": "code",
      "metadata": {
        "id": "Tbm4vPsK9Kys",
        "colab_type": "code",
        "outputId": "fae4f272-56ab-45bb-eaa0-bccd41ce859f",
        "colab": {
          "base_uri": "https://localhost:8080/",
          "height": 477
        }
      },
      "source": [
        "call=0\n",
        "while(call<100):\n",
        "  call=call+1\n",
        "  print(\"Call no.\") \n",
        "  print(call)\n",
        "  state()\n",
        "  time.sleep(500)\n",
        "df=pd.DataFrame(database)\n",
        "print(df)"
      ],
      "execution_count": 0,
      "outputs": [
        {
          "output_type": "stream",
          "text": [
            "Call no.\n",
            "1\n",
            "https://www.thehindu.com/news/national/andhra-pradesh/\n",
            "Not a COVID-19 News\n",
            "https://www.thehindu.com/news/national/karnataka/\n",
            "Not a COVID-19 News\n",
            "https://www.thehindu.com/news/national/kerala/\n",
            "Not a COVID-19 News\n",
            "https://www.thehindu.com/news/national/tamil-nadu/\n",
            "Not a COVID-19 News\n",
            "https://www.thehindu.com/news/national/telangana/\n",
            "Not a COVID-19 News\n",
            "https://www.thehindu.com/news/national/other-states/\n",
            "Not a COVID-19 News\n"
          ],
          "name": "stdout"
        },
        {
          "output_type": "error",
          "ename": "KeyboardInterrupt",
          "evalue": "ignored",
          "traceback": [
            "\u001b[0;31m---------------------------------------------------------------------------\u001b[0m",
            "\u001b[0;31mKeyboardInterrupt\u001b[0m                         Traceback (most recent call last)",
            "\u001b[0;32m<ipython-input-4-88991a7ae896>\u001b[0m in \u001b[0;36m<module>\u001b[0;34m()\u001b[0m\n\u001b[1;32m      5\u001b[0m   \u001b[0mprint\u001b[0m\u001b[0;34m(\u001b[0m\u001b[0mcall\u001b[0m\u001b[0;34m)\u001b[0m\u001b[0;34m\u001b[0m\u001b[0;34m\u001b[0m\u001b[0m\n\u001b[1;32m      6\u001b[0m   \u001b[0mstate\u001b[0m\u001b[0;34m(\u001b[0m\u001b[0;34m)\u001b[0m\u001b[0;34m\u001b[0m\u001b[0;34m\u001b[0m\u001b[0m\n\u001b[0;32m----> 7\u001b[0;31m   \u001b[0mtime\u001b[0m\u001b[0;34m.\u001b[0m\u001b[0msleep\u001b[0m\u001b[0;34m(\u001b[0m\u001b[0;36m500\u001b[0m\u001b[0;34m)\u001b[0m\u001b[0;34m\u001b[0m\u001b[0;34m\u001b[0m\u001b[0m\n\u001b[0m\u001b[1;32m      8\u001b[0m \u001b[0mdf\u001b[0m\u001b[0;34m=\u001b[0m\u001b[0mpd\u001b[0m\u001b[0;34m.\u001b[0m\u001b[0mDataFrame\u001b[0m\u001b[0;34m(\u001b[0m\u001b[0mdatabase\u001b[0m\u001b[0;34m)\u001b[0m\u001b[0;34m\u001b[0m\u001b[0;34m\u001b[0m\u001b[0m\n\u001b[1;32m      9\u001b[0m \u001b[0mprint\u001b[0m\u001b[0;34m(\u001b[0m\u001b[0mdf\u001b[0m\u001b[0;34m)\u001b[0m\u001b[0;34m\u001b[0m\u001b[0;34m\u001b[0m\u001b[0m\n",
            "\u001b[0;31mKeyboardInterrupt\u001b[0m: "
          ]
        }
      ]
    }
  ]
}