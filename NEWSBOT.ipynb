{
  "nbformat": 4,
  "nbformat_minor": 0,
  "metadata": {
    "colab": {
      "name": "NEWSBOT.ipynb",
      "provenance": [],
      "collapsed_sections": [],
      "include_colab_link": true
    },
    "kernelspec": {
      "name": "python3",
      "display_name": "Python 3"
    }
  },
  "cells": [
    {
      "cell_type": "markdown",
      "metadata": {
        "id": "view-in-github",
        "colab_type": "text"
      },
      "source": [
        "<a href=\"https://colab.research.google.com/github/SanjaySivaraman/COVID-19-Data-scraping/blob/master/NEWSBOT.ipynb\" target=\"_parent\"><img src=\"https://colab.research.google.com/assets/colab-badge.svg\" alt=\"Open In Colab\"/></a>"
      ]
    },
    {
      "cell_type": "code",
      "metadata": {
        "id": "UE4uBjqtfS0p",
        "colab_type": "code",
        "colab": {}
      },
      "source": [
        "import requests as r\n",
        "import re\n",
        "from bs4 import BeautifulSoup as soup\n",
        "import time\n",
        "import pandas as pd\n",
        "database=[]\n",
        "preurl='sampleurl'"
      ],
      "execution_count": 1,
      "outputs": []
    },
    {
      "cell_type": "code",
      "metadata": {
        "id": "lPt8U6INMQQx",
        "colab_type": "code",
        "colab": {}
      },
      "source": [
        "def scrape(url,sname):\n",
        "  StateName=sname\n",
        "  LINK=[]\n",
        "  LINK.append(url)\n",
        "  regex = re.compile('.*content-body-.*')\n",
        "  CC=[regex]\n",
        "  fdata=[]\n",
        "  data=r.get(LINK[0])\n",
        "  page_data=soup(data.text,'html.parser')\n",
        "  Sectional=page_data.find('a',{'class':'section-name'}).text\n",
        "  Header=page_data.find('h1',{'class':'title'}).text\n",
        "  dp=page_data.find('div',{'class':'ut-container'})\n",
        "  pad=dp.find_all('span',{'class':'blue-color ksl-time-stamp'})\n",
        "  if(len(pad)==2): \n",
        "    Place=pad[0].text\n",
        "    Place = Place.replace(',', '')\n",
        "    Date=pad[1].text\n",
        "  elif(len(pad)==1):\n",
        "    Place='India'\n",
        "    Date=pad[0].text\n",
        "  Content=page_data.find('div',{'id':CC[0]}).text\n",
        "  column=[StateName,Date,Sectional,Place,Header,Content]\n",
        "  news=[]\n",
        "  for line in column:\n",
        "    news.append(line.strip().split('\\n'))\n",
        "  for k in range(0,len(news)):\n",
        "    temp=news[k][0]\n",
        "    fdata.append(temp)\n",
        "  database.append(fdata)"
      ],
      "execution_count": 2,
      "outputs": []
    },
    {
      "cell_type": "code",
      "metadata": {
        "id": "jzpi5B6HfjN0",
        "colab_type": "code",
        "colab": {}
      },
      "source": [
        "#TAMILNADU\n",
        "def state():\n",
        "  statenamelist=['andhra-pradesh','karnataka','kerala','tamil-nadu','telangana','other-states']\n",
        "  for statename in statenamelist:\n",
        "    url='https://www.thehindu.com/news/national/'+ statename +'/'\n",
        "    print(url)\n",
        "    data=r.get(url)\n",
        "    page_data=soup(data.text,'html.parser')\n",
        "    jis=page_data.find('div',{'class':'justIn-story'})\n",
        "    jis1=jis.find('a')\n",
        "    jisurl=jis1.get('href')\n",
        "    jist=jis1.text\n",
        "    jist=jist.replace('\\n', ' ')\n",
        "    jist=jist.upper()\n",
        "    jist=jist.strip().split(' ')\n",
        "    #print(\"URL is \"+ jisurl+'\\n')\n",
        "    #print(\"List of text:\")\n",
        "    print(jist)\n",
        "    keywords=['COVID-19','CORONAVIRUS','QUARANTINE','LOCKDOWN','CORONA']\n",
        "    flag=0\n",
        "    for i in jist:\n",
        "      for j in keywords:\n",
        "        if(i==j and flag==0):\n",
        "          flag=1\n",
        "          try:\n",
        "            scrape(jisurl,statename)\n",
        "          except:\n",
        "            print('ERROR\\n')\n",
        "    if(flag==0):\n",
        "      print('Not a COVID-19 News')\n",
        "                "
      ],
      "execution_count": 3,
      "outputs": []
    },
    {
      "cell_type": "code",
      "metadata": {
        "id": "Tbm4vPsK9Kys",
        "colab_type": "code",
        "colab": {
          "base_uri": "https://localhost:8080/",
          "height": 415
        },
        "outputId": "7b81935f-3f43-45cd-d37b-5988350fab28"
      },
      "source": [
        "call=0\n",
        "while(call<1):\n",
        "  call=call+1\n",
        "  print(\"Call no.\") \n",
        "  print(call)\n",
        "  state()\n",
        "  time.sleep(0)\n",
        "df=pd.DataFrame(database)\n",
        "print(df)"
      ],
      "execution_count": 4,
      "outputs": [
        {
          "output_type": "stream",
          "text": [
            "Call no.\n",
            "1\n",
            "https://www.thehindu.com/news/national/andhra-pradesh/\n",
            "['42MINS', '', 'FACEBOOK,', 'TWITTER', 'PULL', 'TRUMP', 'POSTS', 'OVER', 'CORONAVIRUS', 'MISINFORMATION']\n",
            "https://www.thehindu.com/news/national/karnataka/\n",
            "['6MINS', '', 'CHINA-BACKED', 'ATTEMPT', 'BY', 'PAK', 'TO', 'RAISE', 'KASHMIR', 'ISSUE', 'AT', 'UNSC', 'FAILS', 'YET', 'AGAIN:', 'INDIAN', 'DIPLOMAT']\n",
            "Not a COVID-19 News\n",
            "https://www.thehindu.com/news/national/kerala/\n",
            "['41MINS', '', 'FACEBOOK,', 'TWITTER', 'PULL', 'TRUMP', 'POSTS', 'OVER', 'CORONAVIRUS', 'MISINFORMATION']\n",
            "https://www.thehindu.com/news/national/tamil-nadu/\n",
            "['6MINS', '', 'CHINA-BACKED', 'ATTEMPT', 'BY', 'PAK', 'TO', 'RAISE', 'KASHMIR', 'ISSUE', 'AT', 'UNSC', 'FAILS', 'YET', 'AGAIN:', 'INDIAN', 'DIPLOMAT']\n",
            "Not a COVID-19 News\n",
            "https://www.thehindu.com/news/national/telangana/\n",
            "['23MINS', '', 'WORLD', 'BANK', 'SAYS', 'READY', 'TO', 'MOBILISE', 'FINANCING', 'FOR', 'LEBANON', 'BLAST', 'RECOVERY']\n",
            "Not a COVID-19 News\n",
            "https://www.thehindu.com/news/national/other-states/\n",
            "['2MINS', '', 'CHINA-BACKED', 'ATTEMPT', 'BY', 'PAK', 'TO', 'RAISE', 'KASHMIR', 'ISSUE', 'AT', 'UNSC', 'FAILS', 'YET', 'AGAIN:', 'INDIAN', 'DIPLOMAT']\n",
            "Not a COVID-19 News\n",
            "                0  ...                                                  5\n",
            "0  andhra-pradesh  ...  Facebook Inc on Wednesday took down a post by ...\n",
            "1          kerala  ...  Facebook Inc on Wednesday took down a post by ...\n",
            "\n",
            "[2 rows x 6 columns]\n"
          ],
          "name": "stdout"
        }
      ]
    },
    {
      "cell_type": "code",
      "metadata": {
        "id": "xulpUTm2FWC5",
        "colab_type": "code",
        "colab": {
          "base_uri": "https://localhost:8080/",
          "height": 110
        },
        "outputId": "87dd31f4-6865-45b5-c1fa-7e32f7f8a3bb"
      },
      "source": [
        "df"
      ],
      "execution_count": 5,
      "outputs": [
        {
          "output_type": "execute_result",
          "data": {
            "text/html": [
              "<div>\n",
              "<style scoped>\n",
              "    .dataframe tbody tr th:only-of-type {\n",
              "        vertical-align: middle;\n",
              "    }\n",
              "\n",
              "    .dataframe tbody tr th {\n",
              "        vertical-align: top;\n",
              "    }\n",
              "\n",
              "    .dataframe thead th {\n",
              "        text-align: right;\n",
              "    }\n",
              "</style>\n",
              "<table border=\"1\" class=\"dataframe\">\n",
              "  <thead>\n",
              "    <tr style=\"text-align: right;\">\n",
              "      <th></th>\n",
              "      <th>0</th>\n",
              "      <th>1</th>\n",
              "      <th>2</th>\n",
              "      <th>3</th>\n",
              "      <th>4</th>\n",
              "      <th>5</th>\n",
              "    </tr>\n",
              "  </thead>\n",
              "  <tbody>\n",
              "    <tr>\n",
              "      <th>0</th>\n",
              "      <td>andhra-pradesh</td>\n",
              "      <td>August 06, 2020 06:43 IST</td>\n",
              "      <td>International</td>\n",
              "      <td>India</td>\n",
              "      <td>Facebook, Twitter pull Trump posts over corona...</td>\n",
              "      <td>Facebook Inc on Wednesday took down a post by ...</td>\n",
              "    </tr>\n",
              "    <tr>\n",
              "      <th>1</th>\n",
              "      <td>kerala</td>\n",
              "      <td>August 06, 2020 06:43 IST</td>\n",
              "      <td>International</td>\n",
              "      <td>India</td>\n",
              "      <td>Facebook, Twitter pull Trump posts over corona...</td>\n",
              "      <td>Facebook Inc on Wednesday took down a post by ...</td>\n",
              "    </tr>\n",
              "  </tbody>\n",
              "</table>\n",
              "</div>"
            ],
            "text/plain": [
              "                0  ...                                                  5\n",
              "0  andhra-pradesh  ...  Facebook Inc on Wednesday took down a post by ...\n",
              "1          kerala  ...  Facebook Inc on Wednesday took down a post by ...\n",
              "\n",
              "[2 rows x 6 columns]"
            ]
          },
          "metadata": {
            "tags": []
          },
          "execution_count": 5
        }
      ]
    },
    {
      "cell_type": "code",
      "metadata": {
        "id": "6NuVk8iqFxBA",
        "colab_type": "code",
        "colab": {}
      },
      "source": [
        ""
      ],
      "execution_count": 5,
      "outputs": []
    }
  ]
}